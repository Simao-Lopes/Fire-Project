{
 "cells": [
  {
   "cell_type": "markdown",
   "id": "cd565f4e",
   "metadata": {},
   "source": [
    "# Importing libraries and getting the required columns from database"
   ]
  },
  {
   "cell_type": "code",
   "execution_count": 9,
   "id": "c1e56173",
   "metadata": {
    "ExecuteTime": {
     "end_time": "2022-10-05T11:19:12.869677Z",
     "start_time": "2022-10-05T11:19:10.149472Z"
    }
   },
   "outputs": [
    {
     "name": "stdout",
     "output_type": "stream",
     "text": [
      "········\n"
     ]
    }
   ],
   "source": [
    "from sqlalchemy import create_engine\n",
    "import pandas as pd\n",
    "import numpy as np\n",
    "import scipy.stats\n",
    "from scipy.stats import ttest_1samp\n",
    "import getpass\n",
    "\n",
    "password = getpass.getpass()"
   ]
  },
  {
   "cell_type": "code",
   "execution_count": 30,
   "id": "aae1c5d3",
   "metadata": {
    "ExecuteTime": {
     "end_time": "2022-10-05T14:00:52.160970Z",
     "start_time": "2022-10-05T14:00:50.895198Z"
    }
   },
   "outputs": [],
   "source": [
    "connection_string = 'mysql+pymysql://root:' + password + '@localhost/fire_db'\n",
    "engine = create_engine(connection_string)\n",
    "\n",
    "query = '''select district, duration, reignition\n",
    "        from \n",
    "        fires_clean \n",
    "        '''\n",
    "\n",
    "top5_districts = ['Viana do Castelo', 'Viseu', 'Bragança', 'Guarda', 'Vila Real']\n",
    "\n",
    "dataset = pd.read_sql_query(query, engine)\n",
    "dataset_top5 = dataset[dataset['district'].isin(top5_districts)]"
   ]
  },
  {
   "cell_type": "markdown",
   "id": "cabe2045",
   "metadata": {},
   "source": [
    "### Hypothesis testing"
   ]
  },
  {
   "cell_type": "code",
   "execution_count": 37,
   "id": "79d6c0f4",
   "metadata": {
    "ExecuteTime": {
     "end_time": "2022-10-05T14:56:01.268889Z",
     "start_time": "2022-10-05T14:56:01.249800Z"
    }
   },
   "outputs": [
    {
     "name": "stdout",
     "output_type": "stream",
     "text": [
      "Stat:  22.31\n",
      "P-Val:  0.0 \n",
      "\n",
      "Mean number of re-ingitions in top 5 districts equal or higher than Portugal\n"
     ]
    }
   ],
   "source": [
    "# One-tailed test:\n",
    "# Null hypothesis or H0: mean number of re-ingitions in top 5 districts >= mean for portugal\n",
    "# Alternative hyp or H1: mean number of re-ingitions in top 5 districts < mean for portugal\n",
    "\n",
    "# we select a value for alpha of 0.05 (p-value threshold)\n",
    "alpha=0.05\n",
    "\n",
    "test = dataset_top5['reignition']\n",
    "mean = dataset['reignition'].mean()\n",
    "\n",
    "stat, pval = ttest_1samp(test, mean) # H0 \n",
    "\n",
    "print('Stat: ', round(stat,2))\n",
    "print('P-Val: ', round(pval,2),'\\n')\n",
    "if pval/2 < alpha:\n",
    "    print('Mean number of re-ingitions in top 5 districts equal or higher than Portugal')\n",
    "       \n",
    "else:\n",
    "    print('Mean number of re-ingitions in top 5 districts lower than Portugal')"
   ]
  },
  {
   "cell_type": "code",
   "execution_count": 38,
   "id": "b13f58b7",
   "metadata": {
    "ExecuteTime": {
     "end_time": "2022-10-05T14:56:03.929776Z",
     "start_time": "2022-10-05T14:56:03.904083Z"
    }
   },
   "outputs": [
    {
     "name": "stdout",
     "output_type": "stream",
     "text": [
      "Stat:  -0.41\n",
      "P-Val:  0.7 \n",
      "\n",
      "Mean number of fires in top 5 districts lower than Portugal\n"
     ]
    }
   ],
   "source": [
    "# One-tailed test:\n",
    "# Null hypothesis or H0: mean number of fires in top 5 districts >= mean for portugal\n",
    "# Alternative hyp or H1: mean number of fires in top 5 districts < mean for portugal\n",
    "\n",
    "# we select a value for alpha of 0.05 (p-value threshold)\n",
    "alpha=0.05\n",
    "\n",
    "test = dataset_top5['district'].value_counts()\n",
    "mean = dataset['district'].value_counts().mean()\n",
    "\n",
    "stat, pval = ttest_1samp(test, mean) # H0 \n",
    "\n",
    "print('Stat: ', round(stat,2))\n",
    "print('P-Val: ', round(pval,2),'\\n')\n",
    "if pval/2 < alpha:\n",
    "    print('Mean number of fires in top 5 districts equal or higher than Portugal')\n",
    "       \n",
    "else:\n",
    "    print('Mean number of fires in top 5 districts lower than Portugal')"
   ]
  },
  {
   "cell_type": "markdown",
   "id": "3af28bfb",
   "metadata": {
    "ExecuteTime": {
     "end_time": "2022-10-05T11:31:20.193944Z",
     "start_time": "2022-10-05T11:31:20.177930Z"
    }
   },
   "source": [
    "### Calculating mean values with confidence intervals"
   ]
  },
  {
   "cell_type": "code",
   "execution_count": 33,
   "id": "6c351427",
   "metadata": {
    "ExecuteTime": {
     "end_time": "2022-10-05T14:04:52.810475Z",
     "start_time": "2022-10-05T14:04:52.796462Z"
    }
   },
   "outputs": [
    {
     "name": "stdout",
     "output_type": "stream",
     "text": [
      "95% confidence interval is  1.34 - 1.4\n"
     ]
    }
   ],
   "source": [
    "confidence_level = .95\n",
    "degrees_freedom = len(dataset['duration']) - 1\n",
    "sample_mean = np.mean(dataset['duration'])\n",
    "\n",
    "sample_standard_error = scipy.stats.sem(dataset['duration']) \n",
    "confidence_interval = scipy.stats.t.interval(confidence_level, \n",
    "                                             degrees_freedom, \n",
    "                                             sample_mean, \n",
    "                                             sample_standard_error)\n",
    "\n",
    "print( '95% confidence interval is ', round(confidence_interval[0],2),'-', round(confidence_interval[1],2))"
   ]
  },
  {
   "cell_type": "code",
   "execution_count": 32,
   "id": "4431811f",
   "metadata": {
    "ExecuteTime": {
     "end_time": "2022-10-05T14:04:52.118597Z",
     "start_time": "2022-10-05T14:04:52.112591Z"
    },
    "scrolled": false
   },
   "outputs": [
    {
     "name": "stdout",
     "output_type": "stream",
     "text": [
      "95% confidence for top5 interval is  1.92 - 2.11\n"
     ]
    }
   ],
   "source": [
    "confidence_level = .95\n",
    "degrees_freedom = len(dataset_top5['duration']) - 1 \n",
    "sample_mean = np.mean(dataset_top5['duration'])\n",
    "\n",
    "sample_standard_error = scipy.stats.sem(dataset_top5['duration'])\n",
    "confidence_interval = scipy.stats.t.interval(confidence_level, \n",
    "                                             degrees_freedom, \n",
    "                                             sample_mean, \n",
    "                                             sample_standard_error)\n",
    "\n",
    "print( '95% confidence for top5 interval is ', round(confidence_interval[0],2),'-', round(confidence_interval[1],2))"
   ]
  },
  {
   "cell_type": "code",
   "execution_count": null,
   "id": "60ae02d2",
   "metadata": {},
   "outputs": [],
   "source": []
  }
 ],
 "metadata": {
  "kernelspec": {
   "display_name": "Python 3 (ipykernel)",
   "language": "python",
   "name": "python3"
  },
  "language_info": {
   "codemirror_mode": {
    "name": "ipython",
    "version": 3
   },
   "file_extension": ".py",
   "mimetype": "text/x-python",
   "name": "python",
   "nbconvert_exporter": "python",
   "pygments_lexer": "ipython3",
   "version": "3.9.12"
  },
  "toc": {
   "base_numbering": 1,
   "nav_menu": {},
   "number_sections": true,
   "sideBar": true,
   "skip_h1_title": false,
   "title_cell": "Table of Contents",
   "title_sidebar": "Contents",
   "toc_cell": false,
   "toc_position": {},
   "toc_section_display": true,
   "toc_window_display": false
  }
 },
 "nbformat": 4,
 "nbformat_minor": 5
}
