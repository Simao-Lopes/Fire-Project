{
 "cells": [
  {
   "cell_type": "markdown",
   "id": "21e1ba55",
   "metadata": {},
   "source": [
    "## Basic data filtering and columns normalization"
   ]
  },
  {
   "cell_type": "code",
   "execution_count": 1,
   "id": "395000af",
   "metadata": {
    "ExecuteTime": {
     "end_time": "2022-10-04T17:03:17.832384Z",
     "start_time": "2022-10-04T17:03:16.899978Z"
    },
    "scrolled": true
   },
   "outputs": [],
   "source": [
    "import pandas as pd\n",
    "import re\n",
    "import warnings\n",
    "import numpy as np\n",
    "from sqlalchemy import create_engine\n",
    "\n",
    "warnings.filterwarnings(\"ignore\")\n",
    "dataset = pd.read_csv('C:\\\\Users\\\\VideoMachine\\\\IH-labs\\\\Fire-Project\\\\NEW_DATA\\\\2013-2022 fires.csv', delimiter = ';') "
   ]
  },
  {
   "cell_type": "code",
   "execution_count": 2,
   "id": "7ad790e0",
   "metadata": {
    "ExecuteTime": {
     "end_time": "2022-10-04T17:03:17.864017Z",
     "start_time": "2022-10-04T17:03:17.833386Z"
    }
   },
   "outputs": [],
   "source": [
    "# # defining the columns to use in the dataset\n",
    "columns_data = ['LAT', 'LON','ANO','TIPO','DISTRITO','CONCELHO','FREGUESIA','DATAALERTA','DATAEXTINCAO','DURACAO',\n",
    "            'AREAPOV','AREAMATO','AREAAGRIC','AREATOTAL','REACENDIMENTOS', 'HAHORA',  \n",
    "            'QUEIMADA','FALSOALARME','FOGACHO','INCENDIO','AGRICOLA','TIPOCAUSA', 'HUMIDADERELATIVA','VENTOINTENSIDADE','PRECEPITACAO','FFMC','DMC','DC','ISI','FWI','THC','ALTITUDEMEDIA','DECLIVEMEDIO','DENDIDADERV','COSN5VARIEDADE']  \n",
    "\n",
    "dataset = dataset[columns_data]"
   ]
  },
  {
   "cell_type": "markdown",
   "id": "ae340c77",
   "metadata": {},
   "source": [
    "### Calculating the column 'duracao', wich is the duration of the fire, using the formula End date/time - alarm date/time. Later this column will be called duration"
   ]
  },
  {
   "cell_type": "code",
   "execution_count": 3,
   "id": "f151133a",
   "metadata": {
    "ExecuteTime": {
     "end_time": "2022-10-04T17:03:17.880039Z",
     "start_time": "2022-10-04T17:03:17.865019Z"
    },
    "scrolled": true
   },
   "outputs": [],
   "source": [
    "dataset['DURACAO'] = dataset['AREATOTAL']/dataset['HAHORA']"
   ]
  },
  {
   "cell_type": "code",
   "execution_count": 4,
   "id": "91c084c9",
   "metadata": {
    "ExecuteTime": {
     "end_time": "2022-10-04T17:03:17.911067Z",
     "start_time": "2022-10-04T17:03:17.881040Z"
    }
   },
   "outputs": [
    {
     "data": {
      "text/html": [
       "<div>\n",
       "<style scoped>\n",
       "    .dataframe tbody tr th:only-of-type {\n",
       "        vertical-align: middle;\n",
       "    }\n",
       "\n",
       "    .dataframe tbody tr th {\n",
       "        vertical-align: top;\n",
       "    }\n",
       "\n",
       "    .dataframe thead th {\n",
       "        text-align: right;\n",
       "    }\n",
       "</style>\n",
       "<table border=\"1\" class=\"dataframe\">\n",
       "  <thead>\n",
       "    <tr style=\"text-align: right;\">\n",
       "      <th></th>\n",
       "      <th>LAT</th>\n",
       "      <th>LON</th>\n",
       "      <th>ANO</th>\n",
       "      <th>TIPO</th>\n",
       "      <th>DISTRITO</th>\n",
       "      <th>CONCELHO</th>\n",
       "      <th>FREGUESIA</th>\n",
       "      <th>DATAALERTA</th>\n",
       "      <th>DATAEXTINCAO</th>\n",
       "      <th>DURACAO</th>\n",
       "      <th>...</th>\n",
       "      <th>FFMC</th>\n",
       "      <th>DMC</th>\n",
       "      <th>DC</th>\n",
       "      <th>ISI</th>\n",
       "      <th>FWI</th>\n",
       "      <th>THC</th>\n",
       "      <th>ALTITUDEMEDIA</th>\n",
       "      <th>DECLIVEMEDIO</th>\n",
       "      <th>DENDIDADERV</th>\n",
       "      <th>COSN5VARIEDADE</th>\n",
       "    </tr>\n",
       "  </thead>\n",
       "  <tbody>\n",
       "    <tr>\n",
       "      <th>0</th>\n",
       "      <td>40.330172</td>\n",
       "      <td>-8.222549</td>\n",
       "      <td>2013</td>\n",
       "      <td>Florestal</td>\n",
       "      <td>Coimbra</td>\n",
       "      <td>Penacova</td>\n",
       "      <td>Oliveira do Mondego</td>\n",
       "      <td>03/01/2013</td>\n",
       "      <td>03/01/2013</td>\n",
       "      <td>0.583333</td>\n",
       "      <td>...</td>\n",
       "      <td>76.300003</td>\n",
       "      <td>2.2</td>\n",
       "      <td>35.200001</td>\n",
       "      <td>1.7</td>\n",
       "      <td>0.7</td>\n",
       "      <td>26.773500</td>\n",
       "      <td>99.8913</td>\n",
       "      <td>17.5053</td>\n",
       "      <td>120.767</td>\n",
       "      <td>22.49</td>\n",
       "    </tr>\n",
       "    <tr>\n",
       "      <th>1</th>\n",
       "      <td>40.127576</td>\n",
       "      <td>-8.153059</td>\n",
       "      <td>2013</td>\n",
       "      <td>Florestal</td>\n",
       "      <td>Coimbra</td>\n",
       "      <td>Góis</td>\n",
       "      <td>Góis</td>\n",
       "      <td>04/01/2013</td>\n",
       "      <td>05/01/2013</td>\n",
       "      <td>1.733333</td>\n",
       "      <td>...</td>\n",
       "      <td>85.400002</td>\n",
       "      <td>2.9</td>\n",
       "      <td>47.400002</td>\n",
       "      <td>3.7</td>\n",
       "      <td>2.6</td>\n",
       "      <td>15.847600</td>\n",
       "      <td>597.4790</td>\n",
       "      <td>49.9571</td>\n",
       "      <td>183.455</td>\n",
       "      <td>21.73</td>\n",
       "    </tr>\n",
       "    <tr>\n",
       "      <th>2</th>\n",
       "      <td>40.236057</td>\n",
       "      <td>-7.794691</td>\n",
       "      <td>2013</td>\n",
       "      <td>Florestal</td>\n",
       "      <td>Coimbra</td>\n",
       "      <td>Arganil</td>\n",
       "      <td>Piódão</td>\n",
       "      <td>04/01/2013</td>\n",
       "      <td>04/01/2013</td>\n",
       "      <td>1.350000</td>\n",
       "      <td>...</td>\n",
       "      <td>81.099998</td>\n",
       "      <td>1.7</td>\n",
       "      <td>25.000000</td>\n",
       "      <td>5.3</td>\n",
       "      <td>3.2</td>\n",
       "      <td>20.834101</td>\n",
       "      <td>748.7660</td>\n",
       "      <td>50.4426</td>\n",
       "      <td>224.046</td>\n",
       "      <td>11.95</td>\n",
       "    </tr>\n",
       "    <tr>\n",
       "      <th>3</th>\n",
       "      <td>39.896117</td>\n",
       "      <td>-8.162342</td>\n",
       "      <td>2013</td>\n",
       "      <td>Florestal</td>\n",
       "      <td>Leiria</td>\n",
       "      <td>Pedrógão Grande</td>\n",
       "      <td>Pedrógão Grande</td>\n",
       "      <td>04/01/2013</td>\n",
       "      <td>04/01/2013</td>\n",
       "      <td>0.666667</td>\n",
       "      <td>...</td>\n",
       "      <td>81.099998</td>\n",
       "      <td>1.7</td>\n",
       "      <td>25.000000</td>\n",
       "      <td>5.3</td>\n",
       "      <td>3.2</td>\n",
       "      <td>20.834101</td>\n",
       "      <td>343.0810</td>\n",
       "      <td>10.0806</td>\n",
       "      <td>138.011</td>\n",
       "      <td>18.89</td>\n",
       "    </tr>\n",
       "    <tr>\n",
       "      <th>4</th>\n",
       "      <td>39.549428</td>\n",
       "      <td>-8.768329</td>\n",
       "      <td>2013</td>\n",
       "      <td>Agrícola</td>\n",
       "      <td>Leiria</td>\n",
       "      <td>Porto de Mós</td>\n",
       "      <td>Alvados</td>\n",
       "      <td>04/01/2013</td>\n",
       "      <td>04/01/2013</td>\n",
       "      <td>3.133333</td>\n",
       "      <td>...</td>\n",
       "      <td>85.800003</td>\n",
       "      <td>4.0</td>\n",
       "      <td>40.200001</td>\n",
       "      <td>4.8</td>\n",
       "      <td>4.1</td>\n",
       "      <td>15.398800</td>\n",
       "      <td>264.8890</td>\n",
       "      <td>11.7616</td>\n",
       "      <td>261.708</td>\n",
       "      <td>15.32</td>\n",
       "    </tr>\n",
       "  </tbody>\n",
       "</table>\n",
       "<p>5 rows × 35 columns</p>\n",
       "</div>"
      ],
      "text/plain": [
       "         LAT       LON   ANO       TIPO DISTRITO         CONCELHO  \\\n",
       "0  40.330172 -8.222549  2013  Florestal  Coimbra         Penacova   \n",
       "1  40.127576 -8.153059  2013  Florestal  Coimbra             Góis   \n",
       "2  40.236057 -7.794691  2013  Florestal  Coimbra          Arganil   \n",
       "3  39.896117 -8.162342  2013  Florestal   Leiria  Pedrógão Grande   \n",
       "4  39.549428 -8.768329  2013   Agrícola   Leiria     Porto de Mós   \n",
       "\n",
       "             FREGUESIA  DATAALERTA DATAEXTINCAO   DURACAO  ...       FFMC  \\\n",
       "0  Oliveira do Mondego  03/01/2013   03/01/2013  0.583333  ...  76.300003   \n",
       "1                 Góis  04/01/2013   05/01/2013  1.733333  ...  85.400002   \n",
       "2               Piódão  04/01/2013   04/01/2013  1.350000  ...  81.099998   \n",
       "3      Pedrógão Grande  04/01/2013   04/01/2013  0.666667  ...  81.099998   \n",
       "4              Alvados  04/01/2013   04/01/2013  3.133333  ...  85.800003   \n",
       "\n",
       "   DMC         DC  ISI  FWI        THC  ALTITUDEMEDIA  DECLIVEMEDIO  \\\n",
       "0  2.2  35.200001  1.7  0.7  26.773500        99.8913       17.5053   \n",
       "1  2.9  47.400002  3.7  2.6  15.847600       597.4790       49.9571   \n",
       "2  1.7  25.000000  5.3  3.2  20.834101       748.7660       50.4426   \n",
       "3  1.7  25.000000  5.3  3.2  20.834101       343.0810       10.0806   \n",
       "4  4.0  40.200001  4.8  4.1  15.398800       264.8890       11.7616   \n",
       "\n",
       "   DENDIDADERV  COSN5VARIEDADE  \n",
       "0      120.767           22.49  \n",
       "1      183.455           21.73  \n",
       "2      224.046           11.95  \n",
       "3      138.011           18.89  \n",
       "4      261.708           15.32  \n",
       "\n",
       "[5 rows x 35 columns]"
      ]
     },
     "execution_count": 4,
     "metadata": {},
     "output_type": "execute_result"
    }
   ],
   "source": [
    "dataset.head()"
   ]
  },
  {
   "cell_type": "markdown",
   "id": "2cfaeee0",
   "metadata": {},
   "source": [
    "### Seting the date-time columns to the correct types and checking if any type is not assigned correctly."
   ]
  },
  {
   "cell_type": "code",
   "execution_count": 5,
   "id": "5fefa93d",
   "metadata": {
    "ExecuteTime": {
     "end_time": "2022-10-04T17:03:17.975125Z",
     "start_time": "2022-10-04T17:03:17.912068Z"
    },
    "scrolled": true
   },
   "outputs": [
    {
     "data": {
      "text/plain": [
       "LAT                        float64\n",
       "LON                        float64\n",
       "ANO                          int64\n",
       "TIPO                        object\n",
       "DISTRITO                    object\n",
       "CONCELHO                    object\n",
       "FREGUESIA                   object\n",
       "DATAALERTA          datetime64[ns]\n",
       "DATAEXTINCAO        datetime64[ns]\n",
       "DURACAO                    float64\n",
       "AREAPOV                    float64\n",
       "AREAMATO                   float64\n",
       "AREAAGRIC                  float64\n",
       "AREATOTAL                  float64\n",
       "REACENDIMENTOS               int64\n",
       "HAHORA                     float64\n",
       "QUEIMADA                     int64\n",
       "FALSOALARME                  int64\n",
       "FOGACHO                      int64\n",
       "INCENDIO                     int64\n",
       "AGRICOLA                     int64\n",
       "TIPOCAUSA                   object\n",
       "HUMIDADERELATIVA           float64\n",
       "VENTOINTENSIDADE           float64\n",
       "PRECEPITACAO               float64\n",
       "FFMC                       float64\n",
       "DMC                        float64\n",
       "DC                         float64\n",
       "ISI                        float64\n",
       "FWI                        float64\n",
       "THC                        float64\n",
       "ALTITUDEMEDIA              float64\n",
       "DECLIVEMEDIO               float64\n",
       "DENDIDADERV                float64\n",
       "COSN5VARIEDADE             float64\n",
       "dtype: object"
      ]
     },
     "metadata": {},
     "output_type": "display_data"
    },
    {
     "data": {
      "text/html": [
       "<div>\n",
       "<style scoped>\n",
       "    .dataframe tbody tr th:only-of-type {\n",
       "        vertical-align: middle;\n",
       "    }\n",
       "\n",
       "    .dataframe tbody tr th {\n",
       "        vertical-align: top;\n",
       "    }\n",
       "\n",
       "    .dataframe thead th {\n",
       "        text-align: right;\n",
       "    }\n",
       "</style>\n",
       "<table border=\"1\" class=\"dataframe\">\n",
       "  <thead>\n",
       "    <tr style=\"text-align: right;\">\n",
       "      <th></th>\n",
       "      <th>LAT</th>\n",
       "      <th>LON</th>\n",
       "      <th>ANO</th>\n",
       "      <th>TIPO</th>\n",
       "      <th>DISTRITO</th>\n",
       "      <th>CONCELHO</th>\n",
       "      <th>FREGUESIA</th>\n",
       "      <th>DATAALERTA</th>\n",
       "      <th>DATAEXTINCAO</th>\n",
       "      <th>DURACAO</th>\n",
       "      <th>...</th>\n",
       "      <th>FFMC</th>\n",
       "      <th>DMC</th>\n",
       "      <th>DC</th>\n",
       "      <th>ISI</th>\n",
       "      <th>FWI</th>\n",
       "      <th>THC</th>\n",
       "      <th>ALTITUDEMEDIA</th>\n",
       "      <th>DECLIVEMEDIO</th>\n",
       "      <th>DENDIDADERV</th>\n",
       "      <th>COSN5VARIEDADE</th>\n",
       "    </tr>\n",
       "  </thead>\n",
       "  <tbody>\n",
       "    <tr>\n",
       "      <th>143129</th>\n",
       "      <td>40.606723</td>\n",
       "      <td>-7.912</td>\n",
       "      <td>2022</td>\n",
       "      <td>Florestal</td>\n",
       "      <td>Viseu</td>\n",
       "      <td>Viseu</td>\n",
       "      <td>São João de Lourosa</td>\n",
       "      <td>2022-09-27</td>\n",
       "      <td>2022-09-27</td>\n",
       "      <td>1.0</td>\n",
       "      <td>...</td>\n",
       "      <td>88.800003</td>\n",
       "      <td>31.4</td>\n",
       "      <td>282.899994</td>\n",
       "      <td>5.95</td>\n",
       "      <td>15.04</td>\n",
       "      <td>NaN</td>\n",
       "      <td>281.028</td>\n",
       "      <td>23.07780</td>\n",
       "      <td>129.978</td>\n",
       "      <td>23.94</td>\n",
       "    </tr>\n",
       "    <tr>\n",
       "      <th>143130</th>\n",
       "      <td>40.610271</td>\n",
       "      <td>-7.914</td>\n",
       "      <td>2022</td>\n",
       "      <td>Florestal</td>\n",
       "      <td>Viseu</td>\n",
       "      <td>Viseu</td>\n",
       "      <td>São João de Lourosa</td>\n",
       "      <td>2022-09-27</td>\n",
       "      <td>2022-09-27</td>\n",
       "      <td>NaN</td>\n",
       "      <td>...</td>\n",
       "      <td>88.800003</td>\n",
       "      <td>31.4</td>\n",
       "      <td>282.899994</td>\n",
       "      <td>5.95</td>\n",
       "      <td>15.04</td>\n",
       "      <td>NaN</td>\n",
       "      <td>434.063</td>\n",
       "      <td>6.41842</td>\n",
       "      <td>242.372</td>\n",
       "      <td>18.62</td>\n",
       "    </tr>\n",
       "  </tbody>\n",
       "</table>\n",
       "<p>2 rows × 35 columns</p>\n",
       "</div>"
      ],
      "text/plain": [
       "              LAT    LON   ANO       TIPO DISTRITO CONCELHO  \\\n",
       "143129  40.606723 -7.912  2022  Florestal    Viseu    Viseu   \n",
       "143130  40.610271 -7.914  2022  Florestal    Viseu    Viseu   \n",
       "\n",
       "                  FREGUESIA DATAALERTA DATAEXTINCAO  DURACAO  ...       FFMC  \\\n",
       "143129  São João de Lourosa 2022-09-27   2022-09-27      1.0  ...  88.800003   \n",
       "143130  São João de Lourosa 2022-09-27   2022-09-27      NaN  ...  88.800003   \n",
       "\n",
       "         DMC          DC   ISI    FWI  THC  ALTITUDEMEDIA  DECLIVEMEDIO  \\\n",
       "143129  31.4  282.899994  5.95  15.04  NaN        281.028      23.07780   \n",
       "143130  31.4  282.899994  5.95  15.04  NaN        434.063       6.41842   \n",
       "\n",
       "        DENDIDADERV  COSN5VARIEDADE  \n",
       "143129      129.978           23.94  \n",
       "143130      242.372           18.62  \n",
       "\n",
       "[2 rows x 35 columns]"
      ]
     },
     "metadata": {},
     "output_type": "display_data"
    },
    {
     "data": {
      "text/plain": [
       "(143131, 35)"
      ]
     },
     "metadata": {},
     "output_type": "display_data"
    }
   ],
   "source": [
    "dataset['DATAALERTA'] = pd.to_datetime(dataset['DATAALERTA'])\n",
    "dataset['DATAEXTINCAO'] = pd.to_datetime(dataset['DATAEXTINCAO'])    \n",
    "    \n",
    "display(dataset.dtypes)\n",
    "display(dataset.tail(2))\n",
    "display(dataset.shape)"
   ]
  },
  {
   "cell_type": "code",
   "execution_count": 6,
   "id": "0237c1c6",
   "metadata": {
    "ExecuteTime": {
     "end_time": "2022-10-04T17:03:18.007156Z",
     "start_time": "2022-10-04T17:03:17.976126Z"
    }
   },
   "outputs": [],
   "source": [
    "final_dataset = dataset[~dataset['DURACAO'].isna()]"
   ]
  },
  {
   "cell_type": "code",
   "execution_count": 7,
   "id": "2f3231b6",
   "metadata": {
    "ExecuteTime": {
     "end_time": "2022-10-04T17:03:18.023160Z",
     "start_time": "2022-10-04T17:03:18.008157Z"
    }
   },
   "outputs": [],
   "source": [
    "final_dataset.columns = ['lat', 'lon','year','type','district','county','parish','alert_date','extinction_date','duration',\n",
    "    'area_populated','area_bush','area_agricultural','area_total','reignition', 'hour_ha', 'burned','false_alarm','spark',\n",
    "    'fire','agricultural','type_cause', 'relative_humidity','wind_intensity', 'precipitation', 'ffmc', 'dmc', 'dc', 'isi', \n",
    "    'fwi','thc', 'avg_altitude', 'avg_inclination', 'rvdendity','cosn5variety']\n"
   ]
  },
  {
   "cell_type": "code",
   "execution_count": 8,
   "id": "6f7202fb",
   "metadata": {
    "ExecuteTime": {
     "end_time": "2022-10-04T17:03:18.038571Z",
     "start_time": "2022-10-04T17:03:18.024161Z"
    }
   },
   "outputs": [
    {
     "data": {
      "text/html": [
       "<div>\n",
       "<style scoped>\n",
       "    .dataframe tbody tr th:only-of-type {\n",
       "        vertical-align: middle;\n",
       "    }\n",
       "\n",
       "    .dataframe tbody tr th {\n",
       "        vertical-align: top;\n",
       "    }\n",
       "\n",
       "    .dataframe thead th {\n",
       "        text-align: right;\n",
       "    }\n",
       "</style>\n",
       "<table border=\"1\" class=\"dataframe\">\n",
       "  <thead>\n",
       "    <tr style=\"text-align: right;\">\n",
       "      <th></th>\n",
       "      <th>lat</th>\n",
       "      <th>lon</th>\n",
       "      <th>year</th>\n",
       "      <th>type</th>\n",
       "      <th>district</th>\n",
       "      <th>county</th>\n",
       "      <th>parish</th>\n",
       "      <th>alert_date</th>\n",
       "      <th>extinction_date</th>\n",
       "      <th>duration</th>\n",
       "      <th>...</th>\n",
       "      <th>ffmc</th>\n",
       "      <th>dmc</th>\n",
       "      <th>dc</th>\n",
       "      <th>isi</th>\n",
       "      <th>fwi</th>\n",
       "      <th>thc</th>\n",
       "      <th>avg_altitude</th>\n",
       "      <th>avg_inclination</th>\n",
       "      <th>rvdendity</th>\n",
       "      <th>cosn5variety</th>\n",
       "    </tr>\n",
       "  </thead>\n",
       "  <tbody>\n",
       "    <tr>\n",
       "      <th>0</th>\n",
       "      <td>40.330172</td>\n",
       "      <td>-8.222549</td>\n",
       "      <td>2013</td>\n",
       "      <td>Florestal</td>\n",
       "      <td>Coimbra</td>\n",
       "      <td>Penacova</td>\n",
       "      <td>Oliveira do Mondego</td>\n",
       "      <td>2013-03-01</td>\n",
       "      <td>2013-03-01</td>\n",
       "      <td>0.583333</td>\n",
       "      <td>...</td>\n",
       "      <td>76.300003</td>\n",
       "      <td>2.2</td>\n",
       "      <td>35.200001</td>\n",
       "      <td>1.7</td>\n",
       "      <td>0.7</td>\n",
       "      <td>26.773500</td>\n",
       "      <td>99.8913</td>\n",
       "      <td>17.5053</td>\n",
       "      <td>120.767</td>\n",
       "      <td>22.49</td>\n",
       "    </tr>\n",
       "    <tr>\n",
       "      <th>1</th>\n",
       "      <td>40.127576</td>\n",
       "      <td>-8.153059</td>\n",
       "      <td>2013</td>\n",
       "      <td>Florestal</td>\n",
       "      <td>Coimbra</td>\n",
       "      <td>Góis</td>\n",
       "      <td>Góis</td>\n",
       "      <td>2013-04-01</td>\n",
       "      <td>2013-05-01</td>\n",
       "      <td>1.733333</td>\n",
       "      <td>...</td>\n",
       "      <td>85.400002</td>\n",
       "      <td>2.9</td>\n",
       "      <td>47.400002</td>\n",
       "      <td>3.7</td>\n",
       "      <td>2.6</td>\n",
       "      <td>15.847600</td>\n",
       "      <td>597.4790</td>\n",
       "      <td>49.9571</td>\n",
       "      <td>183.455</td>\n",
       "      <td>21.73</td>\n",
       "    </tr>\n",
       "    <tr>\n",
       "      <th>2</th>\n",
       "      <td>40.236057</td>\n",
       "      <td>-7.794691</td>\n",
       "      <td>2013</td>\n",
       "      <td>Florestal</td>\n",
       "      <td>Coimbra</td>\n",
       "      <td>Arganil</td>\n",
       "      <td>Piódão</td>\n",
       "      <td>2013-04-01</td>\n",
       "      <td>2013-04-01</td>\n",
       "      <td>1.350000</td>\n",
       "      <td>...</td>\n",
       "      <td>81.099998</td>\n",
       "      <td>1.7</td>\n",
       "      <td>25.000000</td>\n",
       "      <td>5.3</td>\n",
       "      <td>3.2</td>\n",
       "      <td>20.834101</td>\n",
       "      <td>748.7660</td>\n",
       "      <td>50.4426</td>\n",
       "      <td>224.046</td>\n",
       "      <td>11.95</td>\n",
       "    </tr>\n",
       "    <tr>\n",
       "      <th>3</th>\n",
       "      <td>39.896117</td>\n",
       "      <td>-8.162342</td>\n",
       "      <td>2013</td>\n",
       "      <td>Florestal</td>\n",
       "      <td>Leiria</td>\n",
       "      <td>Pedrógão Grande</td>\n",
       "      <td>Pedrógão Grande</td>\n",
       "      <td>2013-04-01</td>\n",
       "      <td>2013-04-01</td>\n",
       "      <td>0.666667</td>\n",
       "      <td>...</td>\n",
       "      <td>81.099998</td>\n",
       "      <td>1.7</td>\n",
       "      <td>25.000000</td>\n",
       "      <td>5.3</td>\n",
       "      <td>3.2</td>\n",
       "      <td>20.834101</td>\n",
       "      <td>343.0810</td>\n",
       "      <td>10.0806</td>\n",
       "      <td>138.011</td>\n",
       "      <td>18.89</td>\n",
       "    </tr>\n",
       "    <tr>\n",
       "      <th>4</th>\n",
       "      <td>39.549428</td>\n",
       "      <td>-8.768329</td>\n",
       "      <td>2013</td>\n",
       "      <td>Agrícola</td>\n",
       "      <td>Leiria</td>\n",
       "      <td>Porto de Mós</td>\n",
       "      <td>Alvados</td>\n",
       "      <td>2013-04-01</td>\n",
       "      <td>2013-04-01</td>\n",
       "      <td>3.133333</td>\n",
       "      <td>...</td>\n",
       "      <td>85.800003</td>\n",
       "      <td>4.0</td>\n",
       "      <td>40.200001</td>\n",
       "      <td>4.8</td>\n",
       "      <td>4.1</td>\n",
       "      <td>15.398800</td>\n",
       "      <td>264.8890</td>\n",
       "      <td>11.7616</td>\n",
       "      <td>261.708</td>\n",
       "      <td>15.32</td>\n",
       "    </tr>\n",
       "  </tbody>\n",
       "</table>\n",
       "<p>5 rows × 35 columns</p>\n",
       "</div>"
      ],
      "text/plain": [
       "         lat       lon  year       type district           county  \\\n",
       "0  40.330172 -8.222549  2013  Florestal  Coimbra         Penacova   \n",
       "1  40.127576 -8.153059  2013  Florestal  Coimbra             Góis   \n",
       "2  40.236057 -7.794691  2013  Florestal  Coimbra          Arganil   \n",
       "3  39.896117 -8.162342  2013  Florestal   Leiria  Pedrógão Grande   \n",
       "4  39.549428 -8.768329  2013   Agrícola   Leiria     Porto de Mós   \n",
       "\n",
       "                parish alert_date extinction_date  duration  ...       ffmc  \\\n",
       "0  Oliveira do Mondego 2013-03-01      2013-03-01  0.583333  ...  76.300003   \n",
       "1                 Góis 2013-04-01      2013-05-01  1.733333  ...  85.400002   \n",
       "2               Piódão 2013-04-01      2013-04-01  1.350000  ...  81.099998   \n",
       "3      Pedrógão Grande 2013-04-01      2013-04-01  0.666667  ...  81.099998   \n",
       "4              Alvados 2013-04-01      2013-04-01  3.133333  ...  85.800003   \n",
       "\n",
       "   dmc         dc  isi  fwi        thc  avg_altitude  avg_inclination  \\\n",
       "0  2.2  35.200001  1.7  0.7  26.773500       99.8913          17.5053   \n",
       "1  2.9  47.400002  3.7  2.6  15.847600      597.4790          49.9571   \n",
       "2  1.7  25.000000  5.3  3.2  20.834101      748.7660          50.4426   \n",
       "3  1.7  25.000000  5.3  3.2  20.834101      343.0810          10.0806   \n",
       "4  4.0  40.200001  4.8  4.1  15.398800      264.8890          11.7616   \n",
       "\n",
       "   rvdendity  cosn5variety  \n",
       "0    120.767         22.49  \n",
       "1    183.455         21.73  \n",
       "2    224.046         11.95  \n",
       "3    138.011         18.89  \n",
       "4    261.708         15.32  \n",
       "\n",
       "[5 rows x 35 columns]"
      ]
     },
     "execution_count": 8,
     "metadata": {},
     "output_type": "execute_result"
    }
   ],
   "source": [
    "final_dataset.head()"
   ]
  },
  {
   "cell_type": "markdown",
   "id": "4482bf7f",
   "metadata": {},
   "source": [
    "### Making some typing corrections to district, county and parish columns so the data is all unified, and filtering the dataset for the specific district we are going to work in."
   ]
  },
  {
   "cell_type": "code",
   "execution_count": 9,
   "id": "10102a6f",
   "metadata": {
    "ExecuteTime": {
     "end_time": "2022-10-04T17:03:18.950846Z",
     "start_time": "2022-10-04T17:03:18.039572Z"
    }
   },
   "outputs": [],
   "source": [
    "for element in ['district', 'county', 'parish']:\n",
    "    final_dataset[element] = final_dataset[element].str.replace(\" Da \",' da ')\n",
    "    final_dataset[element] = final_dataset[element].str.replace(\" De \",' de ')\n",
    "    final_dataset[element] = final_dataset[element].str.replace(\" Do \",' do ')"
   ]
  },
  {
   "cell_type": "markdown",
   "id": "5f82e778",
   "metadata": {},
   "source": [
    "### Checking for final Nans"
   ]
  },
  {
   "cell_type": "code",
   "execution_count": 10,
   "id": "e7528da3",
   "metadata": {
    "ExecuteTime": {
     "end_time": "2022-10-04T17:03:18.982486Z",
     "start_time": "2022-10-04T17:03:18.952849Z"
    }
   },
   "outputs": [],
   "source": [
    "# invalid extintion dates have a duration of 1H so the date is equal to the alert_date\n",
    "final_dataset['extinction_date'][final_dataset['extinction_date'].isnull()] = final_dataset['alert_date']"
   ]
  },
  {
   "cell_type": "code",
   "execution_count": 11,
   "id": "c03ec4c8",
   "metadata": {
    "ExecuteTime": {
     "end_time": "2022-10-04T17:03:19.030077Z",
     "start_time": "2022-10-04T17:03:18.983487Z"
    }
   },
   "outputs": [],
   "source": [
    "# I have no option than dropping the column thc and the rows were relative humidity, wind intensity and precipitation are null \n",
    "# because for the model i want to build this is essencial info.\n",
    "final_dataset = final_dataset.dropna(subset=['relative_humidity', 'hour_ha', 'avg_altitude'])\n",
    "final_dataset = final_dataset.drop(['thc'], axis=1)"
   ]
  },
  {
   "cell_type": "code",
   "execution_count": 12,
   "id": "dccd8c6f",
   "metadata": {
    "ExecuteTime": {
     "end_time": "2022-10-04T17:03:19.110065Z",
     "start_time": "2022-10-04T17:03:19.031079Z"
    }
   },
   "outputs": [
    {
     "data": {
      "text/plain": [
       "lat                      0\n",
       "lon                      0\n",
       "year                     0\n",
       "type                     0\n",
       "district                 0\n",
       "county                   0\n",
       "parish                   0\n",
       "alert_date               0\n",
       "extinction_date          0\n",
       "duration                 0\n",
       "area_populated           0\n",
       "area_bush                0\n",
       "area_agricultural        0\n",
       "area_total               0\n",
       "reignition               0\n",
       "hour_ha                  0\n",
       "burned                   0\n",
       "false_alarm              0\n",
       "spark                    0\n",
       "fire                     0\n",
       "agricultural             0\n",
       "type_cause           21077\n",
       "relative_humidity        0\n",
       "wind_intensity          23\n",
       "precipitation            0\n",
       "ffmc                    29\n",
       "dmc                      0\n",
       "dc                       0\n",
       "isi                     29\n",
       "fwi                      0\n",
       "avg_altitude             0\n",
       "avg_inclination          0\n",
       "rvdendity                0\n",
       "cosn5variety             0\n",
       "dtype: int64"
      ]
     },
     "execution_count": 12,
     "metadata": {},
     "output_type": "execute_result"
    }
   ],
   "source": [
    "final_dataset.isna().sum()"
   ]
  },
  {
   "cell_type": "code",
   "execution_count": 13,
   "id": "5f08b317",
   "metadata": {
    "ExecuteTime": {
     "end_time": "2022-10-04T17:03:19.158111Z",
     "start_time": "2022-10-04T17:03:19.111067Z"
    }
   },
   "outputs": [],
   "source": [
    "# Droping a few more invalid rows\n",
    "final_dataset = final_dataset[~final_dataset['isi'].isna()]\n",
    "final_dataset = final_dataset[~final_dataset['wind_intensity'].isna()]"
   ]
  },
  {
   "cell_type": "markdown",
   "id": "b8c0831e",
   "metadata": {},
   "source": [
    "### I will assign every null of type_cause to unknown because they are in fact, unknown and translate every value to an english translated one for better understanding."
   ]
  },
  {
   "cell_type": "code",
   "execution_count": 14,
   "id": "87604b8e",
   "metadata": {
    "ExecuteTime": {
     "end_time": "2022-10-04T17:03:19.173657Z",
     "start_time": "2022-10-04T17:03:19.159112Z"
    }
   },
   "outputs": [],
   "source": [
    "final_dataset['type_cause'] = final_dataset['type_cause'].map({np.nan : 'Unknown', \"Desconhecida\" : 'Unknown', \"Negligente\" : 'Negligence', \"Intencional\" : 'Intentional', \"Reacendimento\" : 'Re-ignition'})   "
   ]
  },
  {
   "cell_type": "code",
   "execution_count": 15,
   "id": "63d516a2",
   "metadata": {
    "ExecuteTime": {
     "end_time": "2022-10-04T17:03:19.189673Z",
     "start_time": "2022-10-04T17:03:19.174658Z"
    }
   },
   "outputs": [
    {
     "data": {
      "text/plain": [
       "Unknown        57443\n",
       "Negligence     35028\n",
       "Intentional    20058\n",
       "Re-ignition     9185\n",
       "Name: type_cause, dtype: int64"
      ]
     },
     "execution_count": 15,
     "metadata": {},
     "output_type": "execute_result"
    }
   ],
   "source": [
    "final_dataset['type_cause'].value_counts()"
   ]
  },
  {
   "cell_type": "code",
   "execution_count": 16,
   "id": "33c98d56",
   "metadata": {
    "ExecuteTime": {
     "end_time": "2022-10-04T17:03:19.205686Z",
     "start_time": "2022-10-04T17:03:19.190673Z"
    }
   },
   "outputs": [
    {
     "data": {
      "text/plain": [
       "Paredes       3409\n",
       "Penafiel      3019\n",
       "Gondomar      2184\n",
       "Amarante      2167\n",
       "Felgueiras    1992\n",
       "              ... \n",
       "Golegã          33\n",
       "Manteigas       22\n",
       "Mesão frio      19\n",
       "Barrancos       17\n",
       "Porto            6\n",
       "Name: county, Length: 292, dtype: int64"
      ]
     },
     "execution_count": 16,
     "metadata": {},
     "output_type": "execute_result"
    }
   ],
   "source": [
    "final_dataset['county'].value_counts()"
   ]
  },
  {
   "cell_type": "markdown",
   "id": "08baabfd",
   "metadata": {},
   "source": [
    "#### The parish's inside brackets are essencially lke north and south of the same place so I will remove all brackets and everything inside them effectivly grouping the fires of this small sub-parish's"
   ]
  },
  {
   "cell_type": "code",
   "execution_count": 17,
   "id": "1049395b",
   "metadata": {
    "ExecuteTime": {
     "end_time": "2022-10-04T17:03:19.364332Z",
     "start_time": "2022-10-04T17:03:19.206687Z"
    }
   },
   "outputs": [],
   "source": [
    "words = list(final_dataset['parish'][final_dataset['parish'].str.contains(\"\\(.*?\\)\")].unique())\n",
    "file_lst_trimmed = [re.sub(r' \\(.*?\\)', '', file) for file in words]\n",
    "\n",
    "final_dataset[final_dataset['parish'].isin(file_lst_trimmed)]\n",
    "final_dataset['parish'] = [re.sub(r' \\(.*?\\)', '', file) for file in final_dataset['parish']]"
   ]
  },
  {
   "cell_type": "markdown",
   "id": "e33c504e",
   "metadata": {},
   "source": [
    "### Adding the CO2 expelled to the atmosphere for each fire"
   ]
  },
  {
   "cell_type": "code",
   "execution_count": 18,
   "id": "85a4d98d",
   "metadata": {
    "ExecuteTime": {
     "end_time": "2022-10-04T17:03:19.380353Z",
     "start_time": "2022-10-04T17:03:19.365334Z"
    }
   },
   "outputs": [],
   "source": [
    "final_dataset['co2_generated'] = (final_dataset['area_populated']*1.28+final_dataset['area_bush']*14+final_dataset['area_agricultural']*1.28)*1.7264    "
   ]
  },
  {
   "cell_type": "markdown",
   "id": "e581bb06",
   "metadata": {},
   "source": [
    "## Exporting the new trimmed and treated dataset to csv and our MySQL database for later access and use"
   ]
  },
  {
   "cell_type": "code",
   "execution_count": 19,
   "id": "5b6c01ca",
   "metadata": {
    "ExecuteTime": {
     "end_time": "2022-10-04T17:03:23.181195Z",
     "start_time": "2022-10-04T17:03:19.381354Z"
    }
   },
   "outputs": [],
   "source": [
    "final_dataset.to_csv('Full fires 2013-2022 with weather to model.csv')"
   ]
  },
  {
   "cell_type": "code",
   "execution_count": 20,
   "id": "af2e9f21",
   "metadata": {
    "ExecuteTime": {
     "end_time": "2022-10-04T17:03:23.196894Z",
     "start_time": "2022-10-04T17:03:23.182197Z"
    }
   },
   "outputs": [],
   "source": [
    "import getpass\n",
    "from sqlalchemy import create_engine\n",
    "\n",
    "password = getpass.getpass()"
   ]
  },
  {
   "cell_type": "code",
   "execution_count": 21,
   "id": "a0ea08be",
   "metadata": {
    "ExecuteTime": {
     "end_time": "2022-10-04T17:03:36.154219Z",
     "start_time": "2022-10-04T17:03:23.197895Z"
    }
   },
   "outputs": [
    {
     "data": {
      "text/plain": [
       "122662"
      ]
     },
     "execution_count": 21,
     "metadata": {},
     "output_type": "execute_result"
    }
   ],
   "source": [
    "connection_string = 'mysql+pymysql://root:' + password + '@localhost/fire_db'\n",
    "engine = create_engine(connection_string)\n",
    "\n",
    "# Upon writing the SQL querry found 3 more invalid values wich have to be filtered out\n",
    "final_dataset = final_dataset[final_dataset['duration'] != final_dataset['duration'].max()]\n",
    "\n",
    "final_dataset.to_sql('fires_clean',con=engine,index=False,if_exists='replace')"
   ]
  }
 ],
 "metadata": {
  "kernelspec": {
   "display_name": "Python 3 (ipykernel)",
   "language": "python",
   "name": "python3"
  },
  "language_info": {
   "codemirror_mode": {
    "name": "ipython",
    "version": 3
   },
   "file_extension": ".py",
   "mimetype": "text/x-python",
   "name": "python",
   "nbconvert_exporter": "python",
   "pygments_lexer": "ipython3",
   "version": "3.9.12"
  },
  "toc": {
   "base_numbering": 1,
   "nav_menu": {},
   "number_sections": true,
   "sideBar": true,
   "skip_h1_title": false,
   "title_cell": "Table of Contents",
   "title_sidebar": "Contents",
   "toc_cell": false,
   "toc_position": {},
   "toc_section_display": true,
   "toc_window_display": false
  }
 },
 "nbformat": 4,
 "nbformat_minor": 5
}
